{
 "cells": [
  {
   "cell_type": "code",
   "execution_count": null,
   "metadata": {
    "dotnet_interactive": {
     "language": "fsharp"
    },
    "polyglot_notebook": {
     "kernelName": "fsharp"
    },
    "vscode": {
     "languageId": "polyglot-notebook"
    }
   },
   "outputs": [],
   "source": [
    "#r \"nuget: TorchSharp-cpu\"\n",
    "#r \"nuget: TorchVision\"\n",
    "\n",
    "open TorchSharp\n",
    "open type TorchSharp.torch\n",
    "open type TorchSharp.torch.nn\n",
    "open type TorchSharp.torch.optim\n",
    "open type TorchSharp.Scalar"
   ]
  },
  {
   "cell_type": "code",
   "execution_count": null,
   "metadata": {
    "dotnet_interactive": {
     "language": "fsharp"
    },
    "polyglot_notebook": {
     "kernelName": "fsharp"
    },
    "vscode": {
     "languageId": "polyglot-notebook"
    }
   },
   "outputs": [],
   "source": [
    "type Model(name) as this = \n",
    "    inherit Module<torch.Tensor, torch.Tensor>(name)\n",
    "\n",
    "    let layers = nn.Sequential(\n",
    "        nn.ReLU(),\n",
    "        nn.Linear(784, 128),\n",
    "        nn.ReLU(),\n",
    "        nn.Linear(128, 10),\n",
    "        nn.Softmax(1)\n",
    "    )\n",
    "\n",
    "    do\n",
    "        this.RegisterComponents()\n",
    "\n",
    "    override _.forward(input) =\n",
    "        layers.forward(input)"
   ]
  },
  {
   "cell_type": "code",
   "execution_count": null,
   "metadata": {
    "dotnet_interactive": {
     "language": "fsharp"
    },
    "polyglot_notebook": {
     "kernelName": "fsharp"
    },
    "vscode": {
     "languageId": "polyglot-notebook"
    }
   },
   "outputs": [],
   "source": [
    "let model = Model(\"dense\")"
   ]
  },
  {
   "cell_type": "code",
   "execution_count": null,
   "metadata": {
    "dotnet_interactive": {
     "language": "csharp"
    },
    "polyglot_notebook": {
     "kernelName": "csharp"
    },
    "vscode": {
     "languageId": "polyglot-notebook"
    }
   },
   "outputs": [],
   "source": [
    "open System.Drawing\n",
    "open TorchSharp\n",
    "\n",
    "let transformImageToTensor (image: Bitmap) : Tensor =\n",
    "    // Resize the image\n",
    "    let resized = new Bitmap(image, new Size(28, 28))\n",
    "\n",
    "    // Convert the image to grayscale\n",
    "    let grayscale = new Bitmap(resized)\n",
    "    for x in 0 .. grayscale.Width - 1 do\n",
    "        for y in 0 .. grayscale.Height - 1 do\n",
    "            let color = grayscale.GetPixel(x, y)\n",
    "            let grayScaleValue = (int color.R * 0.3) + (int color.G * 0.59) + (int color.B * 0.11)\n",
    "            let grayColor = Color.FromArgb(grayScaleValue, grayScaleValue, grayScaleValue)\n",
    "            grayscale.SetPixel(x, y, grayColor)\n",
    "\n",
    "    // Convert the grayscale image to a tensor\n",
    "    let tensor = Tensor.from_bitmap(grayscale)\n",
    "\n",
    "    // Normalize the tensor\n",
    "    let tensor = tensor.div(255.0f)\n",
    "\n",
    "    tensor"
   ]
  }
 ],
 "metadata": {
  "kernelspec": {
   "display_name": ".NET (C#)",
   "language": "C#",
   "name": ".net-csharp"
  },
  "language_info": {
   "name": "python"
  },
  "polyglot_notebook": {
   "kernelInfo": {
    "defaultKernelName": "csharp",
    "items": [
     {
      "aliases": [],
      "name": "csharp"
     }
    ]
   }
  }
 },
 "nbformat": 4,
 "nbformat_minor": 2
}
